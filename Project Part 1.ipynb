{
  "cells": [
    {
      "cell_type": "markdown",
      "metadata": {
        "id": "YLl73PjWtq-t"
      },
      "source": [
        "# **Projected** **Sales** "
      ]
    },
    {
      "cell_type": "markdown",
      "metadata": {
        "id": "XhRm0BPTuWFl"
      },
      "source": [
        "Ammon Snell"
      ]
    },
    {
      "cell_type": "markdown",
      "metadata": {
        "id": "CVNABS3OuTmW"
      },
      "source": [
        "# **Loading Data**"
      ]
    },
    {
      "cell_type": "code",
      "execution_count": null,
      "metadata": {
        "id": "rwEVvzWpvVhz"
      },
      "outputs": [],
      "source": []
    },
    {
      "cell_type": "markdown",
      "metadata": {
        "id": "j_uLvggMufFc"
      },
      "source": [
        "# **Data Cleaning**"
      ]
    },
    {
      "cell_type": "code",
      "execution_count": null,
      "metadata": {
        "id": "HJh6FyrcvXBM"
      },
      "outputs": [],
      "source": []
    },
    {
      "cell_type": "markdown",
      "metadata": {
        "id": "FbmiMEZTu60o"
      },
      "source": [
        "# **Exploratory Visuals**"
      ]
    },
    {
      "cell_type": "code",
      "execution_count": null,
      "metadata": {
        "id": "8duF7S3wvXqd"
      },
      "outputs": [],
      "source": []
    },
    {
      "cell_type": "markdown",
      "metadata": {
        "id": "qLfac5uovCx_"
      },
      "source": [
        "# **Explanatory Visuals**"
      ]
    },
    {
      "cell_type": "code",
      "execution_count": null,
      "metadata": {
        "id": "IFxdhEoevYRk"
      },
      "outputs": [],
      "source": []
    }
  ],
  "metadata": {
    "colab": {
      "provenance": []
    },
    "kernelspec": {
      "display_name": "Python 3",
      "name": "python3"
    },
    "language_info": {
      "name": "python"
    }
  },
  "nbformat": 4,
  "nbformat_minor": 0
}
